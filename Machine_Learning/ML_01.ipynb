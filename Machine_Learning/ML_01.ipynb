{
  "cells": [
    {
      "cell_type": "code",
      "execution_count": 1,
      "metadata": {
        "id": "Hy_pAhzDZ4gy"
      },
      "outputs": [],
      "source": [
        "import tensorflow as tf\n",
        "import numpy as np"
      ]
    },
    {
      "cell_type": "code",
      "execution_count": 2,
      "metadata": {
        "id": "MIrfX72vaL1z"
      },
      "outputs": [],
      "source": [
        "celsius = np.array([-40, -10, 0, 8, 15, 22, 38], dtype=float)\n",
        "fahrenheit = np.array([-40, 14, 32, 46, 59, 72, 100], dtype=float)"
      ]
    },
    {
      "cell_type": "code",
      "execution_count": 3,
      "metadata": {
        "id": "RIG6Y5jEafFL"
      },
      "outputs": [],
      "source": [
        "\n",
        "hidden1 = tf.keras.layers.Dense(units=3, input_shape=[1])\n",
        "hidden2 = tf.keras.layers.Dense(units=3)\n",
        "out = tf.keras.layers.Dense(units=1)\n",
        "model = tf.keras.Sequential([hidden1, hidden2, out])"
      ]
    },
    {
      "cell_type": "code",
      "execution_count": 4,
      "metadata": {
        "id": "1_WHzWidbN_8"
      },
      "outputs": [],
      "source": [
        "model.compile(\n",
        "    optimizer=tf.keras.optimizers.Adam(0.1),\n",
        "    loss='mean_squared_error'\n",
        ")"
      ]
    },
    {
      "cell_type": "code",
      "execution_count": 5,
      "metadata": {
        "colab": {
          "base_uri": "https://localhost:8080/"
        },
        "id": "4D-NuUTnbabR",
        "outputId": "7113a69c-1d25-461a-b7e5-2430615eaf9b"
      },
      "outputs": [
        {
          "name": "stdout",
          "output_type": "stream",
          "text": [
            "Starting training...\n",
            "Model trained!\n"
          ]
        }
      ],
      "source": [
        "print(\"Starting training...\")\n",
        "history = model.fit(celsius, fahrenheit, epochs=1000, verbose=False)\n",
        "print(\"Model trained!\")"
      ]
    },
    {
      "cell_type": "code",
      "execution_count": 6,
      "metadata": {
        "colab": {
          "base_uri": "https://localhost:8080/",
          "height": 466
        },
        "id": "px43cF3Nb3mG",
        "outputId": "b2f0e09b-a8cc-4fe8-8480-1bc9d217c4d4"
      },
      "outputs": [
        {
          "data": {
            "text/plain": [
              "[<matplotlib.lines.Line2D at 0x7e4399966d70>]"
            ]
          },
          "execution_count": 6,
          "metadata": {},
          "output_type": "execute_result"
        },
        {
          "data": {
            "image/png": "[encoded data removed]",
            "text/plain": [
              "<Figure size 640x480 with 1 Axes>"
            ]
          },
          "metadata": {},
          "output_type": "display_data"
        }
      ],
      "source": [
        "import matplotlib.pyplot as plt\n",
        "plt.xlabel(\"# Epoch\")\n",
        "plt.ylabel(\"Magnitude of the loss\")\n",
        "plt.plot(history.history[\"loss\"])"
      ]
    },
    {
      "cell_type": "code",
      "execution_count": 7,
      "metadata": {
        "colab": {
          "base_uri": "https://localhost:8080/"
        },
        "id": "esVvhzjMcV9f",
        "outputId": "bf5f7f89-46fc-4dad-c9fc-a79f3bd77449"
      },
      "outputs": [
        {
          "name": "stdout",
          "output_type": "stream",
          "text": [
            "Do a prediction!\n",
            "1/1 [==============================] - 0s 73ms/step\n",
            "AI result is [[211.74744]] fahrenheit!\n"
          ]
        }
      ],
      "source": [
        "print(\"Do a prediction!\")\n",
        "result = model.predict([100.0])\n",
        "print(\"AI result is \" + str(result) + \" fahrenheit!\")"
      ]
    },
    {
      "cell_type": "code",
      "execution_count": 8,
      "metadata": {
        "colab": {
          "base_uri": "https://localhost:8080/"
        },
        "id": "FVDejrBgcokc",
        "outputId": "fe075edb-69b9-48be-dfb5-5403305bf1e9"
      },
      "outputs": [
        {
          "name": "stdout",
          "output_type": "stream",
          "text": [
            "Internal vars of the model\n",
            "[array([[-0.30028105, -0.7284976 , -0.12488274]], dtype=float32), array([ 1.8359712, -3.3874917,  2.6352284], dtype=float32)]\n",
            "[array([[-0.30028105, -0.7284976 , -0.12488274]], dtype=float32), array([ 1.8359712, -3.3874917,  2.6352284], dtype=float32)]\n",
            "[array([[-1.4303892 ],\n",
            "       [-1.279698  ],\n",
            "       [-0.13357407]], dtype=float32), array([3.007898], dtype=float32)]\n"
          ]
        }
      ],
      "source": [
        "print(\"Internal vars of the model\")\n",
        "print(hidden1.get_weights())\n",
        "print(hidden1.get_weights())\n",
        "print(out.get_weights())"
      ]
    }
  ],
  "metadata": {
    "colab": {
      "provenance": []
    },
    "kernelspec": {
      "display_name": "Python 3",
      "name": "python3"
    },
    "language_info": {
      "name": "python"
    }
  },
  "nbformat": 4,
  "nbformat_minor": 0
}
